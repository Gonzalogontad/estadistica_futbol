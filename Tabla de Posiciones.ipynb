{
 "cells": [
  {
   "cell_type": "code",
   "execution_count": 54,
   "metadata": {},
   "outputs": [],
   "source": [
    "import pandas as pd\n",
    "import numpy as np"
   ]
  },
  {
   "cell_type": "code",
   "execution_count": 55,
   "metadata": {},
   "outputs": [],
   "source": [
    "data_location = r'output/1ra. Aficionados AFA 1971 Torneo Decagonal.csv'\n",
    "\n",
    "data = pd.read_csv(data_location)"
   ]
  },
  {
   "cell_type": "code",
   "execution_count": 56,
   "metadata": {},
   "outputs": [
    {
     "output_type": "execute_result",
     "data": {
      "text/plain": [
       "                          Puntos  PJ  PG  PE  PP    GF    GC\n",
       "Equipo                                                      \n",
       "Acassuso                      16  10   7   2   1  23.0   6.0\n",
       "Central Argentino             14  10   5   4   1  24.0  14.0\n",
       "Juventud Unida                12   9   5   2   2  31.0  20.0\n",
       "Sacachispas                   11   9   5   1   3  23.0  18.0\n",
       "Villa San Carlos              11   8   4   3   1  16.0   9.0\n",
       "Defensores de Cambaceres      10   9   3   4   2  20.0  22.0\n",
       "Sp. Barracas                   6   9   2   2   5  11.0  24.0\n",
       "Luján                          5   8   2   1   5  16.0  17.0\n",
       "Victoriano Arenas              3   9   1   1   7  13.0  31.0\n",
       "Dep. Merlo                     2   9   0   2   7  12.0  28.0\n",
       "NaN                            0   2   0   0   0   NaN   NaN"
      ],
      "text/html": "<div>\n<style scoped>\n    .dataframe tbody tr th:only-of-type {\n        vertical-align: middle;\n    }\n\n    .dataframe tbody tr th {\n        vertical-align: top;\n    }\n\n    .dataframe thead th {\n        text-align: right;\n    }\n</style>\n<table border=\"1\" class=\"dataframe\">\n  <thead>\n    <tr style=\"text-align: right;\">\n      <th></th>\n      <th>Puntos</th>\n      <th>PJ</th>\n      <th>PG</th>\n      <th>PE</th>\n      <th>PP</th>\n      <th>GF</th>\n      <th>GC</th>\n    </tr>\n    <tr>\n      <th>Equipo</th>\n      <th></th>\n      <th></th>\n      <th></th>\n      <th></th>\n      <th></th>\n      <th></th>\n      <th></th>\n    </tr>\n  </thead>\n  <tbody>\n    <tr>\n      <th>Acassuso</th>\n      <td>16</td>\n      <td>10</td>\n      <td>7</td>\n      <td>2</td>\n      <td>1</td>\n      <td>23.0</td>\n      <td>6.0</td>\n    </tr>\n    <tr>\n      <th>Central Argentino</th>\n      <td>14</td>\n      <td>10</td>\n      <td>5</td>\n      <td>4</td>\n      <td>1</td>\n      <td>24.0</td>\n      <td>14.0</td>\n    </tr>\n    <tr>\n      <th>Juventud Unida</th>\n      <td>12</td>\n      <td>9</td>\n      <td>5</td>\n      <td>2</td>\n      <td>2</td>\n      <td>31.0</td>\n      <td>20.0</td>\n    </tr>\n    <tr>\n      <th>Sacachispas</th>\n      <td>11</td>\n      <td>9</td>\n      <td>5</td>\n      <td>1</td>\n      <td>3</td>\n      <td>23.0</td>\n      <td>18.0</td>\n    </tr>\n    <tr>\n      <th>Villa San Carlos</th>\n      <td>11</td>\n      <td>8</td>\n      <td>4</td>\n      <td>3</td>\n      <td>1</td>\n      <td>16.0</td>\n      <td>9.0</td>\n    </tr>\n    <tr>\n      <th>Defensores de Cambaceres</th>\n      <td>10</td>\n      <td>9</td>\n      <td>3</td>\n      <td>4</td>\n      <td>2</td>\n      <td>20.0</td>\n      <td>22.0</td>\n    </tr>\n    <tr>\n      <th>Sp. Barracas</th>\n      <td>6</td>\n      <td>9</td>\n      <td>2</td>\n      <td>2</td>\n      <td>5</td>\n      <td>11.0</td>\n      <td>24.0</td>\n    </tr>\n    <tr>\n      <th>Luján</th>\n      <td>5</td>\n      <td>8</td>\n      <td>2</td>\n      <td>1</td>\n      <td>5</td>\n      <td>16.0</td>\n      <td>17.0</td>\n    </tr>\n    <tr>\n      <th>Victoriano Arenas</th>\n      <td>3</td>\n      <td>9</td>\n      <td>1</td>\n      <td>1</td>\n      <td>7</td>\n      <td>13.0</td>\n      <td>31.0</td>\n    </tr>\n    <tr>\n      <th>Dep. Merlo</th>\n      <td>2</td>\n      <td>9</td>\n      <td>0</td>\n      <td>2</td>\n      <td>7</td>\n      <td>12.0</td>\n      <td>28.0</td>\n    </tr>\n    <tr>\n      <th>NaN</th>\n      <td>0</td>\n      <td>2</td>\n      <td>0</td>\n      <td>0</td>\n      <td>0</td>\n      <td>NaN</td>\n      <td>NaN</td>\n    </tr>\n  </tbody>\n</table>\n</div>"
     },
     "metadata": {},
     "execution_count": 56
    }
   ],
   "source": [
    "equipos = pd.unique(data['Equipo1'])\n",
    "PTS = 0\n",
    "PJ = 0\n",
    "PG= 0\n",
    "PE= 0\n",
    "PP= 0\n",
    "GF= 0\n",
    "GC= 0\n",
    "df=pd.DataFrame({\"Equipo\":equipos,\n",
    "                \"Puntos\":PTS,\n",
    "                \"PJ\":PJ,\n",
    "                \"PG\":PG,\n",
    "                \"PE\":PE,\n",
    "                \"PP\":PP,\n",
    "                \"GF\":GF,\n",
    "                \"GC\":GC})\n",
    "df.set_index('Equipo', inplace = True)\n",
    "for i in data.index:\n",
    "    if data[\"Goles1\"][i]>data[\"Goles2\"][i]:\n",
    "        df.loc[data[\"Equipo1\"][i], 'Puntos' ] += 2\n",
    "        df.loc[data[\"Equipo1\"][i], 'PG' ] += 1\n",
    "        df.loc[data[\"Equipo2\"][i], 'PP' ] += 1\n",
    "    if data[\"Goles1\"][i]<data[\"Goles2\"][i]:\n",
    "        df.loc[data[\"Equipo2\"][i], 'Puntos' ] += 2\n",
    "        df.loc[data[\"Equipo2\"][i], 'PG' ] += 1\n",
    "        df.loc[data[\"Equipo1\"][i], 'PP' ] += 1\n",
    "    if data[\"Goles1\"][i]==data[\"Goles2\"][i]:\n",
    "        df.loc[data[\"Equipo1\"][i], 'Puntos' ] += 1\n",
    "        df.loc[data[\"Equipo2\"][i], 'Puntos' ] += 1\n",
    "        df.loc[data[\"Equipo1\"][i], 'PE' ] += 1\n",
    "        df.loc[data[\"Equipo2\"][i], 'PE' ] += 1\n",
    "    df.loc[data[\"Equipo1\"][i], 'PJ' ] += 1\n",
    "    df.loc[data[\"Equipo2\"][i], 'PJ' ] += 1\n",
    "    df.loc[data[\"Equipo1\"][i], 'GF' ] += data[\"Goles1\"][i]\n",
    "    df.loc[data[\"Equipo2\"][i], 'GF' ] += data[\"Goles2\"][i]\n",
    "    df.loc[data[\"Equipo1\"][i], 'GC' ] += data[\"Goles2\"][i]\n",
    "    df.loc[data[\"Equipo2\"][i], 'GC' ] += data[\"Goles1\"][i]    \n",
    "df=df.sort_values(by=['Puntos'], ascending=False)\n",
    "df"
   ]
  },
  {
   "cell_type": "code",
   "execution_count": 48,
   "metadata": {},
   "outputs": [],
   "source": [
    "#df.loc[['Equipo'], 'Puntos' ] -= 0\n",
    "#df.sort_values(by=['Puntos'], ascending=False)"
   ]
  },
  {
   "cell_type": "code",
   "execution_count": 94,
   "metadata": {},
   "outputs": [
    {
     "output_type": "stream",
     "name": "stdout",
     "text": [
      "{{Tabla de posiciones equipo|pv=2|pos=1|g=7|e=2|p=1|gf=23.0|gc=6.0eq=[[Acassuso|Acassuso]]|color=#90ee90|\\}\\}\n{{Tabla de posiciones equipo|pv=2|pos=1|g=5|e=4|p=1|gf=24.0|gc=14.0eq=[[Central Argentino|Central Argentino]]|color=#90ee90|\\}\\}\n{{Tabla de posiciones equipo|pv=2|pos=1|g=5|e=2|p=2|gf=31.0|gc=20.0eq=[[Juventud Unida|Juventud Unida]]|color=#90ee90|\\}\\}\n{{Tabla de posiciones equipo|pv=2|pos=1|g=5|e=1|p=3|gf=23.0|gc=18.0eq=[[Sacachispas|Sacachispas]]|color=#90ee90|\\}\\}\n{{Tabla de posiciones equipo|pv=2|pos=1|g=4|e=3|p=1|gf=16.0|gc=9.0eq=[[Villa San Carlos|Villa San Carlos]]|color=#90ee90|\\}\\}\n{{Tabla de posiciones equipo|pv=2|pos=1|g=3|e=4|p=2|gf=20.0|gc=22.0eq=[[Defensores de Cambaceres|Defensores de Cambaceres]]|color=#90ee90|\\}\\}\n{{Tabla de posiciones equipo|pv=2|pos=1|g=2|e=2|p=5|gf=11.0|gc=24.0eq=[[Sp. Barracas|Sp. Barracas]]|color=#90ee90|\\}\\}\n{{Tabla de posiciones equipo|pv=2|pos=1|g=2|e=1|p=5|gf=16.0|gc=17.0eq=[[Luján|Luján]]|color=#90ee90|\\}\\}\n{{Tabla de posiciones equipo|pv=2|pos=1|g=1|e=1|p=7|gf=13.0|gc=31.0eq=[[Victoriano Arenas|Victoriano Arenas]]|color=#90ee90|\\}\\}\n{{Tabla de posiciones equipo|pv=2|pos=1|g=0|e=2|p=7|gf=12.0|gc=28.0eq=[[Dep. Merlo|Dep. Merlo]]|color=#90ee90|\\}\\}\n{{Tabla de posiciones equipo|pv=2|pos=1|g=0|e=0|p=0|gf=nan|gc=naneq=[[nan|nan]]|color=#90ee90|\\}\\}\n\n"
     ]
    }
   ],
   "source": [
    "HTML_table=''\n",
    "for Equipo in df.index:    \n",
    "    HTML_table += \"{{Tabla de posiciones equipo|pv=2|pos=1|\"+f\"g={df.loc[Equipo,'PG']}|e={df.loc[Equipo,'PE']}|p={df.loc[Equipo,'PP']}|gf={df.loc[Equipo,'GF']}|gc={df.loc[Equipo,'GC']}eq=[[{Equipo}|{Equipo}]]|color=#90ee90|\"+\"\\}\\}\\n\"\n",
    "print(HTML_table)\n",
    "\n"
   ]
  }
 ],
 "metadata": {
  "kernelspec": {
   "display_name": "Python 3",
   "language": "python",
   "name": "python3"
  },
  "language_info": {
   "codemirror_mode": {
    "name": "ipython",
    "version": 3
   },
   "file_extension": ".py",
   "mimetype": "text/x-python",
   "name": "python",
   "nbconvert_exporter": "python",
   "pygments_lexer": "ipython3",
   "version": "3.8.5"
  }
 },
 "nbformat": 4,
 "nbformat_minor": 4
}